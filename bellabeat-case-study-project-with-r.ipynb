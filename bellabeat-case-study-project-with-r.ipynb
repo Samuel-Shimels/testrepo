{
 "cells": [
  {
   "cell_type": "markdown",
   "id": "e8f6ad92",
   "metadata": {
    "papermill": {
     "duration": 0.017195,
     "end_time": "2022-11-29T07:52:29.188748",
     "exception": false,
     "start_time": "2022-11-29T07:52:29.171553",
     "status": "completed"
    },
    "tags": []
   },
   "source": [
    "\n",
    "# Introduction\n",
    "This case study is complementary to google data analytics professional certificate program. Bellabeat, the case company, a high-tech company manufacturing health-focused smart products. Major products include Bellabeat App, Leaf, Time, Spring and Membership subscription.(for more detail please visit [their website](https://bellabeat.com/))\n",
    "\n",
    "The goal of this study was to benchmark insights from other company's smart devices usage data trends for a selected Bellabeat product's marketing strategy. \n",
    "\n",
    "The study achieved this goal, via implementation of google's five-phased approach to data analysis.\n",
    "\n",
    "The result shows a 4 hours devices downtime per day. This significant blackout has a trend that matched the users' weekly device usage. \n",
    "\n",
    "What the result suggested? device feature improvements: to have a long hours battrey uptime, Short device charging turnaround, and expected device uptime alert messaging feature. \n",
    "\n",
    "**The take away:** For Bellabeat marketing strategy of its leaf chackra product.\n",
    "The marketting messages should focus on the device's:\n",
    "\n",
    "* 6 months battery life\n",
    "* no charging required, and\n",
    "* 7/24 uptime capacity features\n",
    "\n",
    "Phases to the analysis:\n",
    "\n",
    "* Ask\n",
    "* Prepare\n",
    "* Process\n",
    "* Analyze\n",
    "* Share\n",
    "* Act\n",
    "\n",
    "# Ask\n",
    "\n",
    "Major questions to be answered:\n",
    "\n",
    "* What are some trends in smart device usage?\n",
    "* How could these trends apply to Bellabeat customers?\n",
    "* How could these trends help influence Bellabeat marketing strategy?\n",
    "\n",
    "Key tasks: \n",
    "\n",
    "* Identify the business task \n",
    "* Consider key stakeholders\n",
    "\n",
    "**1. The Business task**\n",
    "\n",
    "* To conduct analysis on external smart device usage data in order to gain insight.\n",
    "* To apply the insights to one of Bellabeat product's marketing strategy.\n",
    "\n",
    "**2. Stakeholders**\n",
    "\n",
    "* **Urška Sršen**: Bellabeat’s cofounder and Chief Creative Officer\n",
    "* **Sando Mur**: Mathematician and Bellabeat’s cofounder; key member of the Bellabeat executive team\n",
    "* **Bellabeat marketing analytics team**: A team of data analysts responsible for collecting, analyzing, and reporting data that helps guide Bellabeat’s marketing strategy.\n",
    "\n",
    "# Prepare\n",
    "\n",
    "Preparation of the data sets.\n",
    "\n",
    "Key tasks:\n",
    "\n",
    "* Download data and store it appropriately. \n",
    "* Identify how it’s organized. \n",
    "* Sort and filter the data.\n",
    "* Determine the credibility of the data.\n",
    "\n",
    "**Download data and store it appropriately**\n",
    "\n",
    "The data is a public data set from Kaggle. It contains personal fitness tracker from thirty three fitbit users. These eligible users consented to the submission of personal tracker data, including minute-level output for physical activity, heart rate, and sleep monitoring.\n",
    "Source: [FitBit Fitness Tracker Data](https://www.kaggle.com/datasets/arashnic/fitbit)  (CC0: Public Domain, data set made available through [Mobius](https://www.kaggle.com/arashnic))\n",
    "\n",
    "**Why R?**\n",
    "\n",
    "Its accessibility, data-centeric approach, and community base makes R ideal to this project.\n",
    "Installation and loading of essential R packages before hand."
   ]
  },
  {
   "cell_type": "code",
   "execution_count": 1,
   "id": "f464a462",
   "metadata": {
    "execution": {
     "iopub.execute_input": "2022-11-29T07:52:29.224654Z",
     "iopub.status.busy": "2022-11-29T07:52:29.221851Z",
     "iopub.status.idle": "2022-11-29T07:52:30.992312Z",
     "shell.execute_reply": "2022-11-29T07:52:30.989532Z"
    },
    "papermill": {
     "duration": 1.791034,
     "end_time": "2022-11-29T07:52:30.995075",
     "exception": false,
     "start_time": "2022-11-29T07:52:29.204041",
     "status": "completed"
    },
    "tags": []
   },
   "outputs": [
    {
     "name": "stderr",
     "output_type": "stream",
     "text": [
      "── \u001b[1mAttaching packages\u001b[22m ─────────────────────────────────────── tidyverse 1.3.2 ──\n",
      "\u001b[32m✔\u001b[39m \u001b[34mggplot2\u001b[39m 3.3.6      \u001b[32m✔\u001b[39m \u001b[34mpurrr  \u001b[39m 0.3.4 \n",
      "\u001b[32m✔\u001b[39m \u001b[34mtibble \u001b[39m 3.1.8      \u001b[32m✔\u001b[39m \u001b[34mdplyr  \u001b[39m 1.0.10\n",
      "\u001b[32m✔\u001b[39m \u001b[34mtidyr  \u001b[39m 1.2.1      \u001b[32m✔\u001b[39m \u001b[34mstringr\u001b[39m 1.4.1 \n",
      "\u001b[32m✔\u001b[39m \u001b[34mreadr  \u001b[39m 2.1.2      \u001b[32m✔\u001b[39m \u001b[34mforcats\u001b[39m 0.5.2 \n",
      "── \u001b[1mConflicts\u001b[22m ────────────────────────────────────────── tidyverse_conflicts() ──\n",
      "\u001b[31m✖\u001b[39m \u001b[34mdplyr\u001b[39m::\u001b[32mfilter()\u001b[39m masks \u001b[34mstats\u001b[39m::filter()\n",
      "\u001b[31m✖\u001b[39m \u001b[34mdplyr\u001b[39m::\u001b[32mlag()\u001b[39m    masks \u001b[34mstats\u001b[39m::lag()\n",
      "\n",
      "Attaching package: ‘lubridate’\n",
      "\n",
      "\n",
      "The following objects are masked from ‘package:base’:\n",
      "\n",
      "    date, intersect, setdiff, union\n",
      "\n",
      "\n",
      "here() starts at /kaggle/working\n",
      "\n",
      "\n",
      "Attaching package: ‘janitor’\n",
      "\n",
      "\n",
      "The following objects are masked from ‘package:stats’:\n",
      "\n",
      "    chisq.test, fisher.test\n",
      "\n",
      "\n"
     ]
    }
   ],
   "source": [
    "library(\"tidyverse\")\n",
    "library(\"dplyr\")\n",
    "library(\"ggplot2\")\n",
    "library(\"readr\")\n",
    "library(\"lubridate\")\n",
    "library(\"here\")\n",
    "library(\"skimr\")\n",
    "library(\"janitor\")"
   ]
  },
  {
   "cell_type": "markdown",
   "id": "41ea6146",
   "metadata": {
    "papermill": {
     "duration": 0.017047,
     "end_time": "2022-11-29T07:52:31.028601",
     "exception": false,
     "start_time": "2022-11-29T07:52:31.011554",
     "status": "completed"
    },
    "tags": []
   },
   "source": [
    "## Import data to RStudio\n",
    "\n",
    "Using read_csv function from readr package.\n",
    "\n",
    "The data set contain 18 csv files with daily, hourly, and minute based dataframes. Here the data dictionary: [fitabase metadata file](https://www.fitabase.com/media/1930/fitabasedatadictionary102320.pdf).\n",
    "\n",
    "**Import the Daily dataframes:**"
   ]
  },
  {
   "cell_type": "code",
   "execution_count": 2,
   "id": "042ceb62",
   "metadata": {
    "execution": {
     "iopub.execute_input": "2022-11-29T07:52:31.099001Z",
     "iopub.status.busy": "2022-11-29T07:52:31.064115Z",
     "iopub.status.idle": "2022-11-29T07:52:31.203402Z",
     "shell.execute_reply": "2022-11-29T07:52:31.201422Z"
    },
    "papermill": {
     "duration": 0.162242,
     "end_time": "2022-11-29T07:52:31.206636",
     "exception": false,
     "start_time": "2022-11-29T07:52:31.044394",
     "status": "completed"
    },
    "tags": []
   },
   "outputs": [],
   "source": [
    "daily_activity <- read.csv(\"../input/fitbit/Fitabase Data 4.12.16-5.12.16/dailyActivity_merged.csv\")\n",
    "\n",
    "daily_calories <- read.csv(\"../input/fitbit/Fitabase Data 4.12.16-5.12.16/dailyCalories_merged.csv\")\n",
    "\n",
    "daily_intensities <- read.csv(\"../input/fitbit/Fitabase Data 4.12.16-5.12.16/dailyIntensities_merged.csv\")\n",
    "\n",
    "daily_steps <- read.csv(\"../input/fitbit/Fitabase Data 4.12.16-5.12.16/dailySteps_merged.csv\")"
   ]
  },
  {
   "cell_type": "markdown",
   "id": "c36c6206",
   "metadata": {
    "papermill": {
     "duration": 0.016299,
     "end_time": "2022-11-29T07:52:31.239546",
     "exception": false,
     "start_time": "2022-11-29T07:52:31.223247",
     "status": "completed"
    },
    "tags": []
   },
   "source": [
    "**Daily dataframes structure**"
   ]
  },
  {
   "cell_type": "code",
   "execution_count": 3,
   "id": "7f84b1da",
   "metadata": {
    "execution": {
     "iopub.execute_input": "2022-11-29T07:52:31.274311Z",
     "iopub.status.busy": "2022-11-29T07:52:31.272755Z",
     "iopub.status.idle": "2022-11-29T07:52:31.336441Z",
     "shell.execute_reply": "2022-11-29T07:52:31.333200Z"
    },
    "papermill": {
     "duration": 0.085333,
     "end_time": "2022-11-29T07:52:31.340562",
     "exception": false,
     "start_time": "2022-11-29T07:52:31.255229",
     "status": "completed"
    },
    "tags": []
   },
   "outputs": [
    {
     "name": "stdout",
     "output_type": "stream",
     "text": [
      "'data.frame':\t940 obs. of  15 variables:\n",
      " $ Id                      : num  1.5e+09 1.5e+09 1.5e+09 1.5e+09 1.5e+09 ...\n",
      " $ ActivityDate            : chr  \"4/12/2016\" \"4/13/2016\" \"4/14/2016\" \"4/15/2016\" ...\n",
      " $ TotalSteps              : int  13162 10735 10460 9762 12669 9705 13019 15506 10544 9819 ...\n",
      " $ TotalDistance           : num  8.5 6.97 6.74 6.28 8.16 ...\n",
      " $ TrackerDistance         : num  8.5 6.97 6.74 6.28 8.16 ...\n",
      " $ LoggedActivitiesDistance: num  0 0 0 0 0 0 0 0 0 0 ...\n",
      " $ VeryActiveDistance      : num  1.88 1.57 2.44 2.14 2.71 ...\n",
      " $ ModeratelyActiveDistance: num  0.55 0.69 0.4 1.26 0.41 ...\n",
      " $ LightActiveDistance     : num  6.06 4.71 3.91 2.83 5.04 ...\n",
      " $ SedentaryActiveDistance : num  0 0 0 0 0 0 0 0 0 0 ...\n",
      " $ VeryActiveMinutes       : int  25 21 30 29 36 38 42 50 28 19 ...\n",
      " $ FairlyActiveMinutes     : int  13 19 11 34 10 20 16 31 12 8 ...\n",
      " $ LightlyActiveMinutes    : int  328 217 181 209 221 164 233 264 205 211 ...\n",
      " $ SedentaryMinutes        : int  728 776 1218 726 773 539 1149 775 818 838 ...\n",
      " $ Calories                : int  1985 1797 1776 1745 1863 1728 1921 2035 1786 1775 ...\n",
      "'data.frame':\t940 obs. of  3 variables:\n",
      " $ Id         : num  1.5e+09 1.5e+09 1.5e+09 1.5e+09 1.5e+09 ...\n",
      " $ ActivityDay: chr  \"4/12/2016\" \"4/13/2016\" \"4/14/2016\" \"4/15/2016\" ...\n",
      " $ Calories   : int  1985 1797 1776 1745 1863 1728 1921 2035 1786 1775 ...\n",
      "'data.frame':\t940 obs. of  10 variables:\n",
      " $ Id                      : num  1.5e+09 1.5e+09 1.5e+09 1.5e+09 1.5e+09 ...\n",
      " $ ActivityDay             : chr  \"4/12/2016\" \"4/13/2016\" \"4/14/2016\" \"4/15/2016\" ...\n",
      " $ SedentaryMinutes        : int  728 776 1218 726 773 539 1149 775 818 838 ...\n",
      " $ LightlyActiveMinutes    : int  328 217 181 209 221 164 233 264 205 211 ...\n",
      " $ FairlyActiveMinutes     : int  13 19 11 34 10 20 16 31 12 8 ...\n",
      " $ VeryActiveMinutes       : int  25 21 30 29 36 38 42 50 28 19 ...\n",
      " $ SedentaryActiveDistance : num  0 0 0 0 0 0 0 0 0 0 ...\n",
      " $ LightActiveDistance     : num  6.06 4.71 3.91 2.83 5.04 ...\n",
      " $ ModeratelyActiveDistance: num  0.55 0.69 0.4 1.26 0.41 ...\n",
      " $ VeryActiveDistance      : num  1.88 1.57 2.44 2.14 2.71 ...\n",
      "'data.frame':\t940 obs. of  3 variables:\n",
      " $ Id         : num  1.5e+09 1.5e+09 1.5e+09 1.5e+09 1.5e+09 ...\n",
      " $ ActivityDay: chr  \"4/12/2016\" \"4/13/2016\" \"4/14/2016\" \"4/15/2016\" ...\n",
      " $ StepTotal  : int  13162 10735 10460 9762 12669 9705 13019 15506 10544 9819 ...\n"
     ]
    }
   ],
   "source": [
    "str(daily_activity)\n",
    "str(daily_calories)\n",
    "str(daily_intensities)\n",
    "str(daily_steps)"
   ]
  },
  {
   "cell_type": "markdown",
   "id": "bfebb4c5",
   "metadata": {
    "papermill": {
     "duration": 0.016319,
     "end_time": "2022-11-29T07:52:31.373703",
     "exception": false,
     "start_time": "2022-11-29T07:52:31.357384",
     "status": "completed"
    },
    "tags": []
   },
   "source": [
    "**Daily dataframes Structure Summary**\n",
    "\n",
    "Variables:\n",
    "* 31 variables on daily activity, intensity, calories, and total steps dataframes.\n",
    "\n",
    "Data Types:\n",
    "* Character\n",
    "* Integer\n",
    "* Number\n",
    "\n",
    "Data Types transformation requirements:\n",
    "* Date columns: from Character to Date/ Time\n",
    "* ID columns: from Number to Character\n",
    "\n",
    "**Import Hourly dataframes**"
   ]
  },
  {
   "cell_type": "code",
   "execution_count": 4,
   "id": "16951bc3",
   "metadata": {
    "execution": {
     "iopub.execute_input": "2022-11-29T07:52:31.410258Z",
     "iopub.status.busy": "2022-11-29T07:52:31.408646Z",
     "iopub.status.idle": "2022-11-29T07:52:31.568127Z",
     "shell.execute_reply": "2022-11-29T07:52:31.566243Z"
    },
    "papermill": {
     "duration": 0.18088,
     "end_time": "2022-11-29T07:52:31.570862",
     "exception": false,
     "start_time": "2022-11-29T07:52:31.389982",
     "status": "completed"
    },
    "tags": []
   },
   "outputs": [],
   "source": [
    "hourly_calories <- read.csv(\"../input/fitbit/Fitabase Data 4.12.16-5.12.16/hourlyCalories_merged.csv\")\n",
    "\n",
    "hourly_intensities <- read.csv(\"../input/fitbit/Fitabase Data 4.12.16-5.12.16/hourlyIntensities_merged.csv\")\n",
    "\n",
    "hourly_steps <- read.csv(\"../input/fitbit/Fitabase Data 4.12.16-5.12.16/hourlySteps_merged.csv\")"
   ]
  },
  {
   "cell_type": "markdown",
   "id": "2d8e83de",
   "metadata": {
    "papermill": {
     "duration": 0.016869,
     "end_time": "2022-11-29T07:52:31.604346",
     "exception": false,
     "start_time": "2022-11-29T07:52:31.587477",
     "status": "completed"
    },
    "tags": []
   },
   "source": [
    "**Hourly dataframes structure**"
   ]
  },
  {
   "cell_type": "code",
   "execution_count": 5,
   "id": "4089984c",
   "metadata": {
    "execution": {
     "iopub.execute_input": "2022-11-29T07:52:31.642376Z",
     "iopub.status.busy": "2022-11-29T07:52:31.640784Z",
     "iopub.status.idle": "2022-11-29T07:52:31.682136Z",
     "shell.execute_reply": "2022-11-29T07:52:31.679853Z"
    },
    "papermill": {
     "duration": 0.063456,
     "end_time": "2022-11-29T07:52:31.685289",
     "exception": false,
     "start_time": "2022-11-29T07:52:31.621833",
     "status": "completed"
    },
    "tags": []
   },
   "outputs": [
    {
     "name": "stdout",
     "output_type": "stream",
     "text": [
      "'data.frame':\t22099 obs. of  3 variables:\n",
      " $ Id          : num  1.5e+09 1.5e+09 1.5e+09 1.5e+09 1.5e+09 ...\n",
      " $ ActivityHour: chr  \"4/12/2016 12:00:00 AM\" \"4/12/2016 1:00:00 AM\" \"4/12/2016 2:00:00 AM\" \"4/12/2016 3:00:00 AM\" ...\n",
      " $ Calories    : int  81 61 59 47 48 48 48 47 68 141 ...\n",
      "'data.frame':\t22099 obs. of  4 variables:\n",
      " $ Id              : num  1.5e+09 1.5e+09 1.5e+09 1.5e+09 1.5e+09 ...\n",
      " $ ActivityHour    : chr  \"4/12/2016 12:00:00 AM\" \"4/12/2016 1:00:00 AM\" \"4/12/2016 2:00:00 AM\" \"4/12/2016 3:00:00 AM\" ...\n",
      " $ TotalIntensity  : int  20 8 7 0 0 0 0 0 13 30 ...\n",
      " $ AverageIntensity: num  0.333 0.133 0.117 0 0 ...\n",
      "'data.frame':\t22099 obs. of  3 variables:\n",
      " $ Id          : num  1.5e+09 1.5e+09 1.5e+09 1.5e+09 1.5e+09 ...\n",
      " $ ActivityHour: chr  \"4/12/2016 12:00:00 AM\" \"4/12/2016 1:00:00 AM\" \"4/12/2016 2:00:00 AM\" \"4/12/2016 3:00:00 AM\" ...\n",
      " $ StepTotal   : int  373 160 151 0 0 0 0 0 250 1864 ...\n"
     ]
    }
   ],
   "source": [
    "str(hourly_calories)\n",
    "str(hourly_intensities)\n",
    "str(hourly_steps)"
   ]
  },
  {
   "cell_type": "markdown",
   "id": "3e73c540",
   "metadata": {
    "papermill": {
     "duration": 0.016449,
     "end_time": "2022-11-29T07:52:31.718149",
     "exception": false,
     "start_time": "2022-11-29T07:52:31.701700",
     "status": "completed"
    },
    "tags": []
   },
   "source": [
    "**Hourly dataframes Structure Summary**\n",
    "\n",
    "Variables:\n",
    "* 10 variables on hourly intensity, calories, and steps of device users.\n",
    "\n",
    "Data Types:\n",
    "* Character\n",
    "* Integer\n",
    "* Number\n",
    "\n",
    "Data Types transformation requirements:\n",
    "* Date columns: from Character to Date/ Time, and formatting\n",
    "* ID columns: from Number to Character\n",
    "\n",
    "**Importing Sleep and Weight dataframes**"
   ]
  },
  {
   "cell_type": "code",
   "execution_count": 6,
   "id": "68fcb6e4",
   "metadata": {
    "execution": {
     "iopub.execute_input": "2022-11-29T07:52:31.755077Z",
     "iopub.status.busy": "2022-11-29T07:52:31.753468Z",
     "iopub.status.idle": "2022-11-29T07:52:31.790737Z",
     "shell.execute_reply": "2022-11-29T07:52:31.788691Z"
    },
    "papermill": {
     "duration": 0.059115,
     "end_time": "2022-11-29T07:52:31.794074",
     "exception": false,
     "start_time": "2022-11-29T07:52:31.734959",
     "status": "completed"
    },
    "tags": []
   },
   "outputs": [],
   "source": [
    "sleep_day <- read.csv(\"../input/fitbit/Fitabase Data 4.12.16-5.12.16/sleepDay_merged.csv\")\n",
    "\n",
    "weight_log_info <- read.csv(\"../input/fitbit/Fitabase Data 4.12.16-5.12.16/weightLogInfo_merged.csv\")"
   ]
  },
  {
   "cell_type": "markdown",
   "id": "21551f7b",
   "metadata": {
    "papermill": {
     "duration": 0.016627,
     "end_time": "2022-11-29T07:52:31.827495",
     "exception": false,
     "start_time": "2022-11-29T07:52:31.810868",
     "status": "completed"
    },
    "tags": []
   },
   "source": [
    "**Sleep, and weight dataframes Structure**"
   ]
  },
  {
   "cell_type": "code",
   "execution_count": 7,
   "id": "e614f019",
   "metadata": {
    "execution": {
     "iopub.execute_input": "2022-11-29T07:52:31.868340Z",
     "iopub.status.busy": "2022-11-29T07:52:31.866515Z",
     "iopub.status.idle": "2022-11-29T07:52:31.908366Z",
     "shell.execute_reply": "2022-11-29T07:52:31.905719Z"
    },
    "papermill": {
     "duration": 0.067064,
     "end_time": "2022-11-29T07:52:31.911927",
     "exception": false,
     "start_time": "2022-11-29T07:52:31.844863",
     "status": "completed"
    },
    "tags": []
   },
   "outputs": [
    {
     "name": "stdout",
     "output_type": "stream",
     "text": [
      "'data.frame':\t413 obs. of  5 variables:\n",
      " $ Id                : num  1.5e+09 1.5e+09 1.5e+09 1.5e+09 1.5e+09 ...\n",
      " $ SleepDay          : chr  \"4/12/2016 12:00:00 AM\" \"4/13/2016 12:00:00 AM\" \"4/15/2016 12:00:00 AM\" \"4/16/2016 12:00:00 AM\" ...\n",
      " $ TotalSleepRecords : int  1 2 1 2 1 1 1 1 1 1 ...\n",
      " $ TotalMinutesAsleep: int  327 384 412 340 700 304 360 325 361 430 ...\n",
      " $ TotalTimeInBed    : int  346 407 442 367 712 320 377 364 384 449 ...\n",
      "'data.frame':\t67 obs. of  8 variables:\n",
      " $ Id            : num  1.50e+09 1.50e+09 1.93e+09 2.87e+09 2.87e+09 ...\n",
      " $ Date          : chr  \"5/2/2016 11:59:59 PM\" \"5/3/2016 11:59:59 PM\" \"4/13/2016 1:08:52 AM\" \"4/21/2016 11:59:59 PM\" ...\n",
      " $ WeightKg      : num  52.6 52.6 133.5 56.7 57.3 ...\n",
      " $ WeightPounds  : num  116 116 294 125 126 ...\n",
      " $ Fat           : int  22 NA NA NA NA 25 NA NA NA NA ...\n",
      " $ BMI           : num  22.6 22.6 47.5 21.5 21.7 ...\n",
      " $ IsManualReport: chr  \"True\" \"True\" \"False\" \"True\" ...\n",
      " $ LogId         : num  1.46e+12 1.46e+12 1.46e+12 1.46e+12 1.46e+12 ...\n"
     ]
    }
   ],
   "source": [
    "\n",
    "str(sleep_day)\n",
    "str(weight_log_info)\n"
   ]
  },
  {
   "cell_type": "markdown",
   "id": "05da7caf",
   "metadata": {
    "papermill": {
     "duration": 0.017481,
     "end_time": "2022-11-29T07:52:31.947218",
     "exception": false,
     "start_time": "2022-11-29T07:52:31.929737",
     "status": "completed"
    },
    "tags": []
   },
   "source": [
    "**Sleep and Weight dataframes Structure Summary**\n",
    "\n",
    "Variables:\n",
    "* 13 variables on sleep and weight of device users.\n",
    "\n",
    "Data Types:\n",
    "* Logical\n",
    "* Character\n",
    "* Integer\n",
    "* Number\n",
    "\n",
    "Data Types transformation requirements:\n",
    "* IsManualReport column: from character to Logical or Boolean\n",
    "* Date columns: from Character to Date/ Time\n",
    "* ID columns: from Number to Character\n",
    "\n",
    "\n",
    "**How many users in the dataframes?**\n",
    "\n",
    "To get the number of participants in the survey. let us check the number of unique IDs.\n"
   ]
  },
  {
   "cell_type": "code",
   "execution_count": 8,
   "id": "8882f78d",
   "metadata": {
    "execution": {
     "iopub.execute_input": "2022-11-29T07:52:31.986220Z",
     "iopub.status.busy": "2022-11-29T07:52:31.984312Z",
     "iopub.status.idle": "2022-11-29T07:52:32.073835Z",
     "shell.execute_reply": "2022-11-29T07:52:32.071408Z"
    },
    "papermill": {
     "duration": 0.11289,
     "end_time": "2022-11-29T07:52:32.077148",
     "exception": false,
     "start_time": "2022-11-29T07:52:31.964258",
     "status": "completed"
    },
    "tags": []
   },
   "outputs": [
    {
     "data": {
      "text/html": [
       "33"
      ],
      "text/latex": [
       "33"
      ],
      "text/markdown": [
       "33"
      ],
      "text/plain": [
       "[1] 33"
      ]
     },
     "metadata": {},
     "output_type": "display_data"
    },
    {
     "data": {
      "text/html": [
       "33"
      ],
      "text/latex": [
       "33"
      ],
      "text/markdown": [
       "33"
      ],
      "text/plain": [
       "[1] 33"
      ]
     },
     "metadata": {},
     "output_type": "display_data"
    },
    {
     "data": {
      "text/html": [
       "33"
      ],
      "text/latex": [
       "33"
      ],
      "text/markdown": [
       "33"
      ],
      "text/plain": [
       "[1] 33"
      ]
     },
     "metadata": {},
     "output_type": "display_data"
    },
    {
     "data": {
      "text/html": [
       "33"
      ],
      "text/latex": [
       "33"
      ],
      "text/markdown": [
       "33"
      ],
      "text/plain": [
       "[1] 33"
      ]
     },
     "metadata": {},
     "output_type": "display_data"
    },
    {
     "data": {
      "text/html": [
       "33"
      ],
      "text/latex": [
       "33"
      ],
      "text/markdown": [
       "33"
      ],
      "text/plain": [
       "[1] 33"
      ]
     },
     "metadata": {},
     "output_type": "display_data"
    },
    {
     "data": {
      "text/html": [
       "33"
      ],
      "text/latex": [
       "33"
      ],
      "text/markdown": [
       "33"
      ],
      "text/plain": [
       "[1] 33"
      ]
     },
     "metadata": {},
     "output_type": "display_data"
    },
    {
     "data": {
      "text/html": [
       "33"
      ],
      "text/latex": [
       "33"
      ],
      "text/markdown": [
       "33"
      ],
      "text/plain": [
       "[1] 33"
      ]
     },
     "metadata": {},
     "output_type": "display_data"
    },
    {
     "data": {
      "text/html": [
       "24"
      ],
      "text/latex": [
       "24"
      ],
      "text/markdown": [
       "24"
      ],
      "text/plain": [
       "[1] 24"
      ]
     },
     "metadata": {},
     "output_type": "display_data"
    },
    {
     "data": {
      "text/html": [
       "8"
      ],
      "text/latex": [
       "8"
      ],
      "text/markdown": [
       "8"
      ],
      "text/plain": [
       "[1] 8"
      ]
     },
     "metadata": {},
     "output_type": "display_data"
    }
   ],
   "source": [
    "\n",
    "n_distinct(daily_activity$Id)\n",
    "n_distinct(daily_calories$Id)\n",
    "n_distinct(daily_intensities$Id)\n",
    "n_distinct(daily_steps$Id)\n",
    "n_distinct(hourly_calories$Id)\n",
    "n_distinct(hourly_intensities$Id)\n",
    "n_distinct(hourly_steps$Id)\n",
    "n_distinct(sleep_day$Id)\n",
    "n_distinct(weight_log_info$Id)\n"
   ]
  },
  {
   "cell_type": "markdown",
   "id": "0491a004",
   "metadata": {
    "papermill": {
     "duration": 0.019863,
     "end_time": "2022-11-29T07:52:32.115493",
     "exception": false,
     "start_time": "2022-11-29T07:52:32.095630",
     "status": "completed"
    },
    "tags": []
   },
   "source": [
    "Most of the data sets contain data about all the subjects (33 participants), but the remaining two: 'sleep_day' contains 24 and 'weight_log_info' data sets gets only 8 that makes the weight data set the least captured in the survey.\n",
    "\n",
    "According to the theory of central limit the two data sets are statistically insufficient to make inferences.\n",
    "\n",
    "**About the data**\n",
    "\n",
    "The data contains structured csv files with long structure. Its organization is in daily, hourly, and minute bases. Making the daily data set the meta summary data that aggregates the hourly then the minute.\n",
    "\n",
    "In the data frames, most of the columns contain numeric decimal values (dbl) and date / time columns with character values (chr). The only Boolean values (lgl) are from a weight data set column.\n",
    "\n",
    "About its integrity, the column naming need some adjustment. For example the date / time columns have inconsistency both in names and formatting. The information is presented either in 'mm/dd/yyyy' or 'mm/dd/yyyy h:m:s UTC' format;\n",
    "\n",
    "Even if we have 33 participants, insufficient data was collected on sleep and weight.In this case, it is handled with a decision to use the available data for identifying trends. \n",
    "\n",
    "\n",
    "**Does the data ROCCC?**\n",
    "\n",
    "ROCCC stands for Reliable, Original, Cited, Current, and Comprehensive.\n",
    "\n",
    "Yes, the data is Reliable, original, and Cited. But,\n",
    "* Is it current?: \n",
    "Even if it is relevant for the period it was collected (4.12.2016 - 5.12.2016), its somewhat old to give insights on current technology and trends in smart fitness tracker devices.\n",
    "* Is it comprehensive?: \n",
    "The data set missed important information on age and gender which limits its use for comprehensive representation of device usage of consumers.\n",
    "\n",
    "* What about privacy and security issues?: \n",
    "From the prepare phase we can see that no Personal identifiable information (PII) is included. Privacy and security issues were handled with Data anonymization.  \n",
    "\n",
    "# Process\n",
    "\n",
    "Key tasks:\n",
    "\n",
    "* Check the data for errors.\n",
    "* Choose your tools.\n",
    "* Transform the data so you can work with it effectively.\n",
    "* Document the cleaning process\n",
    "\n",
    "## Data transformation\n",
    "\n",
    "Split the data/ time columns to date and time.\n"
   ]
  },
  {
   "cell_type": "code",
   "execution_count": 9,
   "id": "8e9ccf2d",
   "metadata": {
    "execution": {
     "iopub.execute_input": "2022-11-29T07:52:32.155270Z",
     "iopub.status.busy": "2022-11-29T07:52:32.153666Z",
     "iopub.status.idle": "2022-11-29T07:52:32.282904Z",
     "shell.execute_reply": "2022-11-29T07:52:32.281050Z"
    },
    "papermill": {
     "duration": 0.152793,
     "end_time": "2022-11-29T07:52:32.286563",
     "exception": false,
     "start_time": "2022-11-29T07:52:32.133770",
     "status": "completed"
    },
    "tags": []
   },
   "outputs": [],
   "source": [
    "\n",
    "# Activity\n",
    "daily_activity$ActivityDate=as.POSIXct(daily_activity$ActivityDate, format= \"%m/%d/%Y\", tz=Sys.timezone())\n",
    "daily_activity$date <- format(daily_activity$ActivityDate, format = \"%m/%d/%y\")\n",
    "\n",
    "# Calories\n",
    "hourly_calories$ActivityHour=as.POSIXct(hourly_calories$ActivityHour, format= \"%m/%d/%Y %I:%M:%S %p\", tz=Sys.timezone())\n",
    "hourly_calories$time <- format(hourly_calories$ActivityHour, format = \"%H:%M:%S\")\n",
    "hourly_calories$date <- format(hourly_calories$ActivityHour, format = \"%m/%d/%y\")\n",
    "\n",
    "# Intensity\n",
    "hourly_intensities$ActivityHour=as.POSIXct(hourly_intensities$ActivityHour, format=\"%m/%d/%Y %I:%M:%S %p\", tz=Sys.timezone())\n",
    "hourly_intensities$time <- format(hourly_intensities$ActivityHour, format = \"%H:%M:%S\")\n",
    "hourly_intensities$date <- format(hourly_intensities$ActivityHour, format = \"%m/%d/%y\")\n",
    "\n",
    "# Sleep\n",
    "sleep_day$SleepDay=as.POSIXct(sleep_day$SleepDay, format=\"%m/%d/%Y %I:%M:%S %p\", tz=Sys.timezone())\n",
    "sleep_day$time <- format(sleep_day$SleepDay, format = \"%H:%M:%S\")\n",
    "sleep_day$date <- format(sleep_day$SleepDay, format = \"%m/%d/%y\")\n"
   ]
  },
  {
   "cell_type": "markdown",
   "id": "0abac633",
   "metadata": {
    "papermill": {
     "duration": 0.018481,
     "end_time": "2022-11-29T07:52:32.324049",
     "exception": false,
     "start_time": "2022-11-29T07:52:32.305568",
     "status": "completed"
    },
    "tags": []
   },
   "source": [
    "\n",
    "**Data Cleaning: Checking missing Values**\n",
    "\n",
    "* Check activity data frame for missing values"
   ]
  },
  {
   "cell_type": "code",
   "execution_count": 10,
   "id": "6bba0491",
   "metadata": {
    "execution": {
     "iopub.execute_input": "2022-11-29T07:52:32.364297Z",
     "iopub.status.busy": "2022-11-29T07:52:32.362625Z",
     "shell.execute_reply": "2022-11-29T07:52:32.909895Z"
    },
    "papermill": {
     "duration": 0.571255,
     "end_time": "2022-11-29T07:52:32.912937",
     "exception": false,
     "start_time": "2022-11-29T07:52:32.341682",
     "status": "completed"
    },
    "tags": []
   },
   "outputs": [],
   "source": [
    "\n",
    "skim_without_charts(daily_activity)\n"
   ]
  },
  {
   "cell_type": "markdown",
   "id": "832b30bd",
   "metadata": {
    "papermill": {
     "duration": null,
     "end_time": null,
     "exception": null,
     "start_time": null,
     "status": "completed"
    },
    "tags": []
   },
   "source": [
    "**Note:** The daily_activity data set contains 31 days data and no missing values\n",
    "\n",
    "* Check calories data frame for missing values"
   ]
  },
  {
   "cell_type": "code",
   "execution_count": null,
   "id": "a9ed850f",
   "metadata": {
    "execution": {
     "iopub.execute_input": "2022-11-29T07:32:22.338042Z",
     "iopub.status.busy": "2022-11-29T07:32:22.336455Z",
     "iopub.status.idle": "2022-11-29T07:32:22.619170Z"
    },
    "papermill": {
     "duration": null,
     "end_time": null,
     "exception": null,
     "start_time": null,
     "status": "completed"
    },
    "tags": []
   },
   "outputs": [],
   "source": [
    "\n",
    "skim_without_charts(hourly_calories)\n"
   ]
  },
  {
   "cell_type": "markdown",
   "id": "e29d5ba4",
   "metadata": {
    "papermill": {
     "duration": null,
     "end_time": null,
     "exception": null,
     "start_time": null,
     "status": "completed"
    },
    "tags": []
   },
   "source": [
    "**Note:** the hourly_calories dataframe contains 31 days data and no missing values.\n",
    "\n",
    "* Check Intensity data frame for missing values"
   ]
  },
  {
   "cell_type": "code",
   "execution_count": null,
   "id": "e639f67b",
   "metadata": {
    "execution": {
     "iopub.execute_input": "2022-11-29T07:32:22.622773Z",
     "iopub.status.busy": "2022-11-29T07:32:22.621460Z",
     "iopub.status.idle": "2022-11-29T07:32:22.914767Z"
    },
    "papermill": {
     "duration": null,
     "end_time": null,
     "exception": null,
     "start_time": null,
     "status": "completed"
    },
    "tags": []
   },
   "outputs": [],
   "source": [
    "skim_without_charts(hourly_intensities)"
   ]
  },
  {
   "cell_type": "markdown",
   "id": "e3761849",
   "metadata": {
    "papermill": {
     "duration": null,
     "end_time": null,
     "exception": null,
     "start_time": null,
     "status": "completed"
    },
    "tags": []
   },
   "source": [
    "**Note:** The Intensity dataframe contains 31 days data and no missing Values.\n",
    "\n",
    "* Check sleep data frame for missing values"
   ]
  },
  {
   "cell_type": "code",
   "execution_count": null,
   "id": "f458faa5",
   "metadata": {
    "execution": {
     "iopub.execute_input": "2022-11-29T07:32:22.918320Z",
     "iopub.status.busy": "2022-11-29T07:32:22.916979Z",
     "iopub.status.idle": "2022-11-29T07:32:23.169745Z"
    },
    "papermill": {
     "duration": null,
     "end_time": null,
     "exception": null,
     "start_time": null,
     "status": "completed"
    },
    "tags": []
   },
   "outputs": [],
   "source": [
    "skim_without_charts(sleep_day)"
   ]
  },
  {
   "cell_type": "markdown",
   "id": "562352dc",
   "metadata": {
    "papermill": {
     "duration": null,
     "end_time": null,
     "exception": null,
     "start_time": null,
     "status": "completed"
    },
    "tags": []
   },
   "source": [
    "**Note:** The sleep data set contains 31 days data and no missing values.\n",
    "\n",
    "* Check weight data frame for missing values"
   ]
  },
  {
   "cell_type": "code",
   "execution_count": null,
   "id": "adbb9109",
   "metadata": {
    "execution": {
     "iopub.execute_input": "2022-11-29T07:32:23.173460Z",
     "iopub.status.busy": "2022-11-29T07:32:23.172129Z",
     "iopub.status.idle": "2022-11-29T07:32:23.396149Z"
    },
    "papermill": {
     "duration": null,
     "end_time": null,
     "exception": null,
     "start_time": null,
     "status": "completed"
    },
    "tags": []
   },
   "outputs": [],
   "source": [
    "skim_without_charts(weight_log_info)"
   ]
  },
  {
   "cell_type": "markdown",
   "id": "b2054076",
   "metadata": {
    "papermill": {
     "duration": null,
     "end_time": null,
     "exception": null,
     "start_time": null,
     "status": "completed"
    },
    "tags": []
   },
   "source": [
    "**Note:** But, in Weight data set we have considerable missing values. Only 3% of the fat column is completed (Meaning; out of 67 observations only 2 were completed). To keep bias out of our analysis this column is dropped.\n",
    "\n",
    "\n",
    "#### Setup our final data set for analysis\n",
    "\n",
    "**Adjust column naming to snake_case and Select variables.**\n",
    "\n",
    "* Check weight data frame columns"
   ]
  },
  {
   "cell_type": "code",
   "execution_count": null,
   "id": "3b5e9536",
   "metadata": {
    "execution": {
     "iopub.execute_input": "2022-11-29T07:32:23.399645Z",
     "iopub.status.busy": "2022-11-29T07:32:23.398330Z",
     "iopub.status.idle": "2022-11-29T07:32:23.420969Z"
    },
    "papermill": {
     "duration": null,
     "end_time": null,
     "exception": null,
     "start_time": null,
     "status": "completed"
    },
    "tags": []
   },
   "outputs": [],
   "source": [
    "colnames(weight_log_info)"
   ]
  },
  {
   "cell_type": "markdown",
   "id": "742e06b1",
   "metadata": {
    "papermill": {
     "duration": null,
     "end_time": null,
     "exception": null,
     "start_time": null,
     "status": "completed"
    },
    "tags": []
   },
   "source": [
    "**Action:** Remove fat & date columns and name the new data frame 'clean_weight'."
   ]
  },
  {
   "cell_type": "code",
   "execution_count": null,
   "id": "80e3234f",
   "metadata": {
    "execution": {
     "iopub.execute_input": "2022-11-29T07:32:23.424433Z",
     "iopub.status.busy": "2022-11-29T07:32:23.423172Z",
     "iopub.status.idle": "2022-11-29T07:32:23.517901Z"
    },
    "papermill": {
     "duration": null,
     "end_time": null,
     "exception": null,
     "start_time": null,
     "status": "completed"
    },
    "tags": []
   },
   "outputs": [],
   "source": [
    "weight_new <- weight_log_info %>% \n",
    "  select(Id,WeightKg, WeightPounds, BMI, IsManualReport)\n",
    "clean_weight <- clean_names(weight_new)\n",
    "clean_weight$id <- as.character(clean_weight$id)\n",
    "clean_weight$is_manual_report <- as.logical(clean_weight$is_manual_report)\n",
    "\n",
    "head(clean_weight)"
   ]
  },
  {
   "cell_type": "markdown",
   "id": "21fa6850",
   "metadata": {
    "papermill": {
     "duration": null,
     "end_time": null,
     "exception": null,
     "start_time": null,
     "status": "completed"
    },
    "tags": []
   },
   "source": [
    "\n",
    "* Check Sleep data frame columns"
   ]
  },
  {
   "cell_type": "code",
   "execution_count": null,
   "id": "a9c7c0f2",
   "metadata": {
    "execution": {
     "iopub.execute_input": "2022-11-29T07:32:23.521567Z",
     "iopub.status.busy": "2022-11-29T07:32:23.520265Z",
     "iopub.status.idle": "2022-11-29T07:32:23.550495Z"
    },
    "papermill": {
     "duration": null,
     "end_time": null,
     "exception": null,
     "start_time": null,
     "status": "completed"
    },
    "tags": []
   },
   "outputs": [],
   "source": [
    "colnames(sleep_day)\n",
    "head(sleep_day)"
   ]
  },
  {
   "cell_type": "markdown",
   "id": "ebde3ed7",
   "metadata": {
    "papermill": {
     "duration": null,
     "end_time": null,
     "exception": null,
     "start_time": null,
     "status": "completed"
    },
    "tags": []
   },
   "source": [
    "**Action:** Remove sleepDay & time columns and name the new data frame 'clean_sleep'."
   ]
  },
  {
   "cell_type": "code",
   "execution_count": null,
   "id": "a88f1bb1",
   "metadata": {
    "execution": {
     "iopub.execute_input": "2022-11-29T07:32:23.554016Z",
     "iopub.status.busy": "2022-11-29T07:32:23.552722Z",
     "iopub.status.idle": "2022-11-29T07:32:23.598844Z"
    },
    "papermill": {
     "duration": null,
     "end_time": null,
     "exception": null,
     "start_time": null,
     "status": "completed"
    },
    "tags": []
   },
   "outputs": [],
   "source": [
    "sleep_new <- sleep_day %>% \n",
    "  select(Id,date,TotalSleepRecords, TotalMinutesAsleep, TotalTimeInBed)\n",
    "clean_sleep <- clean_names(sleep_new)\n",
    "clean_sleep$date <- as.Date(clean_sleep$date, format = \"%m/%d/%y\")\n",
    "clean_sleep$id <- as.character(clean_sleep$id)\n",
    "head(clean_sleep)"
   ]
  },
  {
   "cell_type": "markdown",
   "id": "75c21c03",
   "metadata": {
    "papermill": {
     "duration": null,
     "end_time": null,
     "exception": null,
     "start_time": null,
     "status": "completed"
    },
    "tags": []
   },
   "source": [
    "* Check Intensity data frame columns"
   ]
  },
  {
   "cell_type": "code",
   "execution_count": null,
   "id": "06713958",
   "metadata": {
    "execution": {
     "iopub.execute_input": "2022-11-29T07:32:23.602375Z",
     "iopub.status.busy": "2022-11-29T07:32:23.601084Z",
     "iopub.status.idle": "2022-11-29T07:32:23.619184Z"
    },
    "papermill": {
     "duration": null,
     "end_time": null,
     "exception": null,
     "start_time": null,
     "status": "completed"
    },
    "tags": []
   },
   "outputs": [],
   "source": [
    "colnames(hourly_intensities)"
   ]
  },
  {
   "cell_type": "markdown",
   "id": "bbe674c6",
   "metadata": {
    "papermill": {
     "duration": null,
     "end_time": null,
     "exception": null,
     "start_time": null,
     "status": "completed"
    },
    "tags": []
   },
   "source": [
    "**Action:** Remove ActivityHour & time columns and name the new data frame 'cleaned_intensities'."
   ]
  },
  {
   "cell_type": "code",
   "execution_count": null,
   "id": "80282029",
   "metadata": {
    "execution": {
     "iopub.execute_input": "2022-11-29T07:32:23.623252Z",
     "iopub.status.busy": "2022-11-29T07:32:23.621822Z",
     "iopub.status.idle": "2022-11-29T07:32:23.687590Z"
    },
    "papermill": {
     "duration": null,
     "end_time": null,
     "exception": null,
     "start_time": null,
     "status": "completed"
    },
    "tags": []
   },
   "outputs": [],
   "source": [
    "intensities_new <- hourly_intensities %>% \n",
    "  select(Id,date,TotalIntensity, AverageIntensity)\n",
    "cleaned_intensities <- clean_names(intensities_new)\n",
    "cleaned_intensities$id <- as.character(cleaned_intensities$id)\n",
    "cleaned_intensities$date <- as.Date(cleaned_intensities$date, format = \"%m/%d/%y\")\n",
    "head(cleaned_intensities)"
   ]
  },
  {
   "cell_type": "markdown",
   "id": "c862de24",
   "metadata": {
    "papermill": {
     "duration": null,
     "end_time": null,
     "exception": null,
     "start_time": null,
     "status": "completed"
    },
    "tags": []
   },
   "source": [
    "\n",
    "* Check Calories data frame columns"
   ]
  },
  {
   "cell_type": "code",
   "execution_count": null,
   "id": "1b6143fc",
   "metadata": {
    "execution": {
     "iopub.execute_input": "2022-11-29T07:32:23.691133Z",
     "iopub.status.busy": "2022-11-29T07:32:23.689819Z",
     "iopub.status.idle": "2022-11-29T07:32:23.705744Z"
    },
    "papermill": {
     "duration": null,
     "end_time": null,
     "exception": null,
     "start_time": null,
     "status": "completed"
    },
    "tags": []
   },
   "outputs": [],
   "source": [
    "colnames(hourly_calories)"
   ]
  },
  {
   "cell_type": "markdown",
   "id": "3d1d5cda",
   "metadata": {
    "papermill": {
     "duration": null,
     "end_time": null,
     "exception": null,
     "start_time": null,
     "status": "completed"
    },
    "tags": []
   },
   "source": [
    "**Action:** Remove ActivityHour & time columns and name the new data frame 'cleaned_calories'."
   ]
  },
  {
   "cell_type": "code",
   "execution_count": null,
   "id": "9f7f8451",
   "metadata": {
    "execution": {
     "iopub.execute_input": "2022-11-29T07:32:23.709291Z",
     "iopub.status.busy": "2022-11-29T07:32:23.707978Z",
     "iopub.status.idle": "2022-11-29T07:32:23.785044Z"
    },
    "papermill": {
     "duration": null,
     "end_time": null,
     "exception": null,
     "start_time": null,
     "status": "completed"
    },
    "tags": []
   },
   "outputs": [],
   "source": [
    "calories_new <- hourly_calories %>% \n",
    "  select(Id,date, Calories)\n",
    "cleaned_calories <- clean_names(calories_new)\n",
    "cleaned_calories$id <- as.character(cleaned_calories$id)\n",
    "cleaned_calories$date <- as.Date(cleaned_calories$date)\n",
    "\n",
    "head(cleaned_calories)"
   ]
  },
  {
   "cell_type": "markdown",
   "id": "7e3f4928",
   "metadata": {
    "papermill": {
     "duration": null,
     "end_time": null,
     "exception": null,
     "start_time": null,
     "status": "completed"
    },
    "tags": []
   },
   "source": [
    "* Check Activity data frame columns"
   ]
  },
  {
   "cell_type": "code",
   "execution_count": null,
   "id": "2603d65d",
   "metadata": {
    "execution": {
     "iopub.execute_input": "2022-11-29T07:32:23.790224Z",
     "iopub.status.busy": "2022-11-29T07:32:23.788655Z",
     "iopub.status.idle": "2022-11-29T07:32:23.809553Z"
    },
    "papermill": {
     "duration": null,
     "end_time": null,
     "exception": null,
     "start_time": null,
     "status": "completed"
    },
    "tags": []
   },
   "outputs": [],
   "source": [
    "colnames(daily_activity)"
   ]
  },
  {
   "cell_type": "markdown",
   "id": "5abd56a9",
   "metadata": {
    "papermill": {
     "duration": null,
     "end_time": null,
     "exception": null,
     "start_time": null,
     "status": "completed"
    },
    "tags": []
   },
   "source": [
    "**Action:** Remove ActivityDate column and name the new data frame 'cleaned_activity_merged'."
   ]
  },
  {
   "cell_type": "code",
   "execution_count": null,
   "id": "9c2b8753",
   "metadata": {
    "execution": {
     "iopub.execute_input": "2022-11-29T07:32:23.815164Z",
     "iopub.status.busy": "2022-11-29T07:32:23.813415Z",
     "iopub.status.idle": "2022-11-29T07:32:23.875310Z"
    },
    "papermill": {
     "duration": null,
     "end_time": null,
     "exception": null,
     "start_time": null,
     "status": "completed"
    },
    "tags": []
   },
   "outputs": [],
   "source": [
    "activity_new <- daily_activity %>% \n",
    "  select(! ActivityDate)\n",
    "cleaned_activity_merged <- clean_names(activity_new)\n",
    "cleaned_activity_merged$date <- as.Date(cleaned_activity_merged$date, format = \"%m/%d/%y\")\n",
    "cleaned_activity_merged$id <- as.character(cleaned_activity_merged$id)\n",
    "head(cleaned_activity_merged)"
   ]
  },
  {
   "cell_type": "markdown",
   "id": "c3d3c8ba",
   "metadata": {
    "papermill": {
     "duration": null,
     "end_time": null,
     "exception": null,
     "start_time": null,
     "status": "completed"
    },
    "tags": []
   },
   "source": [
    "#### Further data Cleanings \n",
    "\n",
    "Here our interest is to analyze the device usage data where consumers actually used the devices. Devices can be in sedentary state but not being used completely.\n",
    "\n",
    "How to identify devices actual use?\n",
    "\n",
    "Based on the activity principles and facts from fitbase data dictionary we can infere the following Conditions. If a device fulfill either of the conditions, Then we can say that the devices was not used on the specified date.\n",
    "\n",
    "codition_1: With user in activity, the calories expenditure can not be zero.\n",
    "\n",
    "Codition_2: With the devices 24 hrs in sedentary and all other entries have zero entries.\n",
    "\n",
    "Note: This excludes the Id, date, and calories as they have default input values. according to Fitbase data dictionary.\n",
    "\n",
    "*Based on Codition_1: Remove Calories Zero records*\n",
    "\n",
    "Check records that fulfill this condition."
   ]
  },
  {
   "cell_type": "code",
   "execution_count": null,
   "id": "635c4cb7",
   "metadata": {
    "execution": {
     "iopub.execute_input": "2022-11-29T07:32:23.878999Z",
     "iopub.status.busy": "2022-11-29T07:32:23.877636Z",
     "iopub.status.idle": "2022-11-29T07:32:23.905742Z"
    },
    "papermill": {
     "duration": null,
     "end_time": null,
     "exception": null,
     "start_time": null,
     "status": "completed"
    },
    "tags": []
   },
   "outputs": [],
   "source": [
    "as_tibble(cleaned_activity_merged[(cleaned_activity_merged$calories == 0), ])"
   ]
  },
  {
   "cell_type": "markdown",
   "id": "3397ab98",
   "metadata": {
    "papermill": {
     "duration": null,
     "end_time": null,
     "exception": null,
     "start_time": null,
     "status": "completed"
    },
    "tags": []
   },
   "source": [
    "There are 4 records fulfilling the condition.\n",
    "\n",
    "**Action:** Remove the records from 'cleaned_activity_merged' dataframe and name it 'clean_calories_zero_activitry_merged'."
   ]
  },
  {
   "cell_type": "code",
   "execution_count": null,
   "id": "0e2d80f5",
   "metadata": {
    "execution": {
     "iopub.execute_input": "2022-11-29T07:32:23.909411Z",
     "iopub.status.busy": "2022-11-29T07:32:23.908071Z",
     "iopub.status.idle": "2022-11-29T07:32:23.927559Z"
    },
    "papermill": {
     "duration": null,
     "end_time": null,
     "exception": null,
     "start_time": null,
     "status": "completed"
    },
    "tags": []
   },
   "outputs": [],
   "source": [
    "clean_calories_zero_activitry_merged <- cleaned_activity_merged[!(cleaned_activity_merged$calories == 0), ]"
   ]
  },
  {
   "cell_type": "markdown",
   "id": "1901a056",
   "metadata": {
    "papermill": {
     "duration": null,
     "end_time": null,
     "exception": null,
     "start_time": null,
     "status": "completed"
    },
    "tags": []
   },
   "source": [
    "*Based on Codition_2:  Remove 24 hrs (1440 minutes) sedentary and other entries zero observations*\n",
    "\n",
    "Check records that fulfill condition_2.\n",
    "Note: 24 hrs sedentary refers devices with 1440 sedentary minutes (equivalent to 24 hrs)."
   ]
  },
  {
   "cell_type": "code",
   "execution_count": null,
   "id": "44807eb7",
   "metadata": {
    "execution": {
     "iopub.execute_input": "2022-11-29T07:32:23.931386Z",
     "iopub.status.busy": "2022-11-29T07:32:23.930056Z",
     "iopub.status.idle": "2022-11-29T07:32:23.953243Z"
    },
    "papermill": {
     "duration": null,
     "end_time": null,
     "exception": null,
     "start_time": null,
     "status": "completed"
    },
    "tags": []
   },
   "outputs": [],
   "source": [
    "count(clean_calories_zero_activitry_merged [(clean_calories_zero_activitry_merged$total_steps == 0 & \n",
    "                                             clean_calories_zero_activitry_merged$total_distance == 0 & \n",
    "                                             clean_calories_zero_activitry_merged$tracker_distance == 0 & \n",
    "                                             clean_calories_zero_activitry_merged$logged_activities_distance == 0 & \n",
    "                                             clean_calories_zero_activitry_merged$very_active_distance == 0 & \n",
    "                                             clean_calories_zero_activitry_merged$light_active_distance == 0 & \n",
    "                                             clean_calories_zero_activitry_merged$sedentary_active_distance == 0 & \n",
    "                                             clean_calories_zero_activitry_merged$very_active_minutes == 0 & \n",
    "                                             clean_calories_zero_activitry_merged$fairly_active_minutes == 0 & \n",
    "                                             clean_calories_zero_activitry_merged$lightly_active_minutes == 0 & \n",
    "                                             clean_calories_zero_activitry_merged$sedentary_minutes == 1440), ])"
   ]
  },
  {
   "cell_type": "markdown",
   "id": "2832663e",
   "metadata": {
    "papermill": {
     "duration": null,
     "end_time": null,
     "exception": null,
     "start_time": null,
     "status": "completed"
    },
    "tags": []
   },
   "source": [
    "There are 68 records fulfilling the condition. \n",
    "\n",
    "**Action:** Remove the records from 'clean_calories_zero_activitry_merged' dataframe and save it to 'clean_activity_merged_device_in_Use'."
   ]
  },
  {
   "cell_type": "code",
   "execution_count": null,
   "id": "c450df3c",
   "metadata": {
    "execution": {
     "iopub.execute_input": "2022-11-29T07:32:23.956945Z",
     "iopub.status.busy": "2022-11-29T07:32:23.955537Z",
     "iopub.status.idle": "2022-11-29T07:32:23.996309Z"
    },
    "papermill": {
     "duration": null,
     "end_time": null,
     "exception": null,
     "start_time": null,
     "status": "completed"
    },
    "tags": []
   },
   "outputs": [],
   "source": [
    "clean_activity_merged_device_in_Use <- clean_calories_zero_activitry_merged [!(clean_calories_zero_activitry_merged$total_steps == 0 & \n",
    "                                                                               clean_calories_zero_activitry_merged$total_distance == 0 & \n",
    "                                                                               clean_calories_zero_activitry_merged$tracker_distance == 0 & \n",
    "                                                                               clean_calories_zero_activitry_merged$logged_activities_distance == 0 & \n",
    "                                                                               clean_calories_zero_activitry_merged$very_active_distance == 0 & \n",
    "                                                                               clean_calories_zero_activitry_merged$light_active_distance == 0 & \n",
    "                                                                               clean_calories_zero_activitry_merged$sedentary_active_distance == 0 & \n",
    "                                                                               clean_calories_zero_activitry_merged$very_active_minutes == 0 & \n",
    "                                                                               clean_calories_zero_activitry_merged$fairly_active_minutes == 0 & \n",
    "                                                                               clean_calories_zero_activitry_merged$lightly_active_minutes == 0 & \n",
    "                                                                               clean_calories_zero_activitry_merged$sedentary_minutes == 1440), ]\n",
    "head(clean_activity_merged_device_in_Use)\n",
    "count(clean_activity_merged_device_in_Use)"
   ]
  },
  {
   "cell_type": "markdown",
   "id": "b3505799",
   "metadata": {
    "papermill": {
     "duration": null,
     "end_time": null,
     "exception": null,
     "start_time": null,
     "status": "completed"
    },
    "tags": []
   },
   "source": [
    "\n",
    "**Merging relevant data frames**\n",
    "\n",
    "* Merge Weight and intensity data frames on 'id'.\n"
   ]
  },
  {
   "cell_type": "code",
   "execution_count": null,
   "id": "18bd491c",
   "metadata": {
    "execution": {
     "iopub.execute_input": "2022-11-29T07:32:23.999867Z",
     "iopub.status.busy": "2022-11-29T07:32:23.998549Z",
     "iopub.status.idle": "2022-11-29T07:32:24.235283Z"
    },
    "papermill": {
     "duration": null,
     "end_time": null,
     "exception": null,
     "start_time": null,
     "status": "completed"
    },
    "tags": []
   },
   "outputs": [],
   "source": [
    "clean_weight_intensity_combined <- merge(clean_weight, cleaned_intensities, by=c('id'))\n",
    "head(clean_weight_intensity_combined)"
   ]
  },
  {
   "cell_type": "markdown",
   "id": "87424043",
   "metadata": {
    "papermill": {
     "duration": null,
     "end_time": null,
     "exception": null,
     "start_time": null,
     "status": "completed"
    },
    "tags": []
   },
   "source": [
    "* Merge activity and sleep data frames on 'id' and 'date'."
   ]
  },
  {
   "cell_type": "code",
   "execution_count": null,
   "id": "7de17d5a",
   "metadata": {
    "execution": {
     "iopub.execute_input": "2022-11-29T07:32:24.238843Z",
     "iopub.status.busy": "2022-11-29T07:32:24.237505Z",
     "iopub.status.idle": "2022-11-29T07:32:24.279236Z"
    },
    "papermill": {
     "duration": null,
     "end_time": null,
     "exception": null,
     "start_time": null,
     "status": "completed"
    },
    "tags": []
   },
   "outputs": [],
   "source": [
    "clean_activity_sleep_combined <- merge(clean_sleep, clean_activity_merged_device_in_Use, by=c('id', 'date'))\n",
    "\n",
    "head(clean_activity_sleep_combined)"
   ]
  },
  {
   "cell_type": "markdown",
   "id": "1ee03a9b",
   "metadata": {
    "papermill": {
     "duration": null,
     "end_time": null,
     "exception": null,
     "start_time": null,
     "status": "completed"
    },
    "tags": []
   },
   "source": [
    "**The Cleaned and merged Data frames for analysis:**\n",
    "\n",
    "* clean_activity_sleep_combined\n",
    "* cleaned_activity_merged\n",
    "* cleaned_calories\n",
    "* cleaned_intensities\n",
    "* clean_weight\n",
    "\n",
    "\n",
    "\n",
    "# Analyze\n",
    "\n",
    "Key tasks:\n",
    "\n",
    "* Aggregate the data so it’s useful and accessible. \n",
    "* Organize and format the data. \n",
    "* Perform calculations. \n",
    "* Identify trends and relationships."
   ]
  },
  {
   "cell_type": "markdown",
   "id": "ad66e07f",
   "metadata": {
    "papermill": {
     "duration": null,
     "end_time": null,
     "exception": null,
     "start_time": null,
     "status": "completed"
    },
    "tags": []
   },
   "source": [
    "#### Understanding some summary statistics\n",
    "\n",
    "* Device Usage stat summary\n"
   ]
  },
  {
   "cell_type": "code",
   "execution_count": null,
   "id": "8d7ea3a8",
   "metadata": {
    "execution": {
     "iopub.execute_input": "2022-11-29T07:32:24.284110Z",
     "iopub.status.busy": "2022-11-29T07:32:24.282653Z",
     "iopub.status.idle": "2022-11-29T07:32:24.348147Z"
    },
    "papermill": {
     "duration": null,
     "end_time": null,
     "exception": null,
     "start_time": null,
     "status": "completed"
    },
    "tags": []
   },
   "outputs": [],
   "source": [
    "count_usage_days <- aggregate(cbind(count = date) ~id, data = clean_activity_merged_device_in_Use, FUN = length)\n",
    "count_usage_days <- count_usage_days %>% \n",
    "  rename(number_of_days=count)\n",
    "\n",
    "# Device usage stat summary\n",
    "round(mean(count_usage_days$number_of_days),0) # Average \n",
    "round(sd(count_usage_days$number_of_days),0) # standard devation\n",
    "max(count_usage_days$number_of_days) # Maximum\n",
    "min(count_usage_days$number_of_days) # Minimum\n"
   ]
  },
  {
   "cell_type": "markdown",
   "id": "3b18044b",
   "metadata": {
    "papermill": {
     "duration": null,
     "end_time": null,
     "exception": null,
     "start_time": null,
     "status": "completed"
    },
    "tags": []
   },
   "source": [
    "How was the device usage?\n",
    "\n",
    "The device usage summary shows it, on average 26 days usage in the 31 days.\n",
    "\n",
    "* Activity stat summary:"
   ]
  },
  {
   "cell_type": "code",
   "execution_count": null,
   "id": "145f9667",
   "metadata": {
    "execution": {
     "iopub.execute_input": "2022-11-29T07:32:24.351836Z",
     "iopub.status.busy": "2022-11-29T07:32:24.350486Z",
     "iopub.status.idle": "2022-11-29T07:32:24.375298Z"
    },
    "papermill": {
     "duration": null,
     "end_time": null,
     "exception": null,
     "start_time": null,
     "status": "completed"
    },
    "tags": []
   },
   "outputs": [],
   "source": [
    "clean_activity_merged_device_in_Use %>%  \n",
    "  select(very_active_minutes,\n",
    "         fairly_active_minutes,\n",
    "         lightly_active_minutes,\n",
    "         sedentary_minutes) %>%\n",
    "  summary()"
   ]
  },
  {
   "cell_type": "markdown",
   "id": "62da63b8",
   "metadata": {
    "papermill": {
     "duration": null,
     "end_time": null,
     "exception": null,
     "start_time": null,
     "status": "completed"
    },
    "tags": []
   },
   "source": [
    "What does this tell us about activities levels?\n",
    "\n",
    "* Least time spent in fairly active state.\n",
    "* Most time spent in sedentary state of the 24 hours.\n",
    "\n",
    "**How many hours of a day users were engaged in non_sedentary activities?**"
   ]
  },
  {
   "cell_type": "code",
   "execution_count": null,
   "id": "17336b27",
   "metadata": {
    "execution": {
     "iopub.execute_input": "2022-11-29T07:32:24.379193Z",
     "iopub.status.busy": "2022-11-29T07:32:24.377787Z",
     "iopub.status.idle": "2022-11-29T07:32:24.424680Z"
    },
    "papermill": {
     "duration": null,
     "end_time": null,
     "exception": null,
     "start_time": null,
     "status": "completed"
    },
    "tags": []
   },
   "outputs": [],
   "source": [
    "# aggregate variables from activity data frame\n",
    "\n",
    "clean_activity_merged_device_in_Use$week_day <- weekdays(clean_activity_merged_device_in_Use$date) # convert to week days\n",
    "weekly_device_activity = clean_activity_merged_device_in_Use %>%\n",
    "  group_by(id, date)  %>%\n",
    "  summarise(very_active = sum(very_active_minutes, na.rm = TRUE)/60, \n",
    "            fairly_active = sum(fairly_active_minutes, na.rm = TRUE)/60,\n",
    "            lightly_active = sum(lightly_active_minutes, na.rm = TRUE)/60,\n",
    "            \n",
    "            sedentary = sum(sedentary_minutes, na.rm = TRUE)/60,\n",
    "            device_active_hours = very_active + fairly_active + lightly_active + sedentary,\n",
    "            downtime_hours = 24 - (device_active_hours),\n",
    "            week_day = week_day,\n",
    "                              .groups = 'drop')\n",
    "\n",
    "# Non-sedentary hours per day \n",
    "daily_active_hours_average <- round(mean(weekly_device_activity$very_active + weekly_device_activity$fairly_active + weekly_device_activity$lightly_active ),2)\n",
    "head(daily_active_hours_average)"
   ]
  },
  {
   "cell_type": "markdown",
   "id": "8c0407ef",
   "metadata": {
    "papermill": {
     "duration": null,
     "end_time": null,
     "exception": null,
     "start_time": null,
     "status": "completed"
    },
    "tags": []
   },
   "source": [
    "Users were in non-sedentary activities for about 4 hours each day.\n",
    "\n",
    "\n",
    "**How many hours devices were in blackout? in the 24 hours**"
   ]
  },
  {
   "cell_type": "code",
   "execution_count": null,
   "id": "a35de256",
   "metadata": {
    "execution": {
     "iopub.execute_input": "2022-11-29T07:32:24.428405Z",
     "iopub.status.busy": "2022-11-29T07:32:24.427015Z",
     "iopub.status.idle": "2022-11-29T07:32:24.443864Z"
    },
    "papermill": {
     "duration": null,
     "end_time": null,
     "exception": null,
     "start_time": null,
     "status": "completed"
    },
    "tags": []
   },
   "outputs": [],
   "source": [
    "# device average downtime in the 24 hours\n",
    "round(mean(weekly_device_activity$downtime_hours),1)\n"
   ]
  },
  {
   "cell_type": "markdown",
   "id": "6f3d45f8",
   "metadata": {
    "papermill": {
     "duration": null,
     "end_time": null,
     "exception": null,
     "start_time": null,
     "status": "completed"
    },
    "tags": []
   },
   "source": [
    "Devices were in blackout for about 4 hours each day.\n",
    "\n",
    "\n",
    "* Sleep and calories expenditure stat summary:"
   ]
  },
  {
   "cell_type": "code",
   "execution_count": null,
   "id": "895d497d",
   "metadata": {
    "execution": {
     "iopub.execute_input": "2022-11-29T07:32:24.447566Z",
     "iopub.status.busy": "2022-11-29T07:32:24.446230Z",
     "iopub.status.idle": "2022-11-29T07:32:24.467996Z"
    },
    "papermill": {
     "duration": null,
     "end_time": null,
     "exception": null,
     "start_time": null,
     "status": "completed"
    },
    "tags": []
   },
   "outputs": [],
   "source": [
    "clean_activity_sleep_combined %>% \n",
    "  select(total_minutes_asleep,  \n",
    "         calories, total_time_in_bed) %>%\n",
    "  summary()"
   ]
  },
  {
   "cell_type": "markdown",
   "id": "a2316fe4",
   "metadata": {
    "papermill": {
     "duration": null,
     "end_time": null,
     "exception": null,
     "start_time": null,
     "status": "completed"
    },
    "tags": []
   },
   "source": [
    "* Users were asleep for about 7 hours on average. This is at the lower bound of adult daily sleep need range of 7 to 9 hours. (see [here](https://www.sleepfoundation.org/how-sleep-works/sleep-facts-statistics#:~:text=Adults%20between%2018%20and%2064%20need%20seven%20to,average%20for%20less%20than%20seven%20hours%20per%20night.))\n",
    "* The average calories expenditure is 2398. This is higher than female adults calories need per day range(1,600–2,200 calories). (see [here](https://www.healthline.com/health/fitness-exercise/how-many-calories-do-i-burn-a-day#:~:text=Every%20day%2C%20you%20burn%20calories%20when%20you%20move,unique%20to%20your%20body%20and%20activity%20levels%20%281%29.))\n",
    "\n",
    "\n",
    "**Trends and Relationships between variables**\n",
    "\n",
    "Hypothesises\n",
    "\n",
    "\n",
    "**Hypothesis_1:** level of activeness follow trends over the week days. Especially, very active minutes are intensified over the week ends.\n",
    "\n",
    "**Hypothesis_2:** Users with high calories expenditure tends to asleep longer.\n",
    "\n",
    "**Hypothesis_3:** Users with heavier weight tends to do more intensified activities.\n",
    "\n",
    "\n",
    "**Checking the Hypothesis**\n",
    "\n",
    "**Checking Hypothesis_1:** *level of activeness follow trends over the week days. Especially, very active minutes are intensified over the week ends.*"
   ]
  },
  {
   "cell_type": "code",
   "execution_count": null,
   "id": "a386ca01",
   "metadata": {
    "execution": {
     "iopub.execute_input": "2022-11-29T07:32:24.471801Z",
     "iopub.status.busy": "2022-11-29T07:32:24.470428Z",
     "iopub.status.idle": "2022-11-29T07:32:24.518689Z"
    },
    "papermill": {
     "duration": null,
     "end_time": null,
     "exception": null,
     "start_time": null,
     "status": "completed"
    },
    "tags": []
   },
   "outputs": [],
   "source": [
    "active_vs_sedentary_minutes = weekly_device_activity %>%\n",
    "  group_by(week_day)  %>%\n",
    "  summarise(very_active = mean(very_active, na.rm = TRUE),\n",
    "            active = (mean(fairly_active, na.rm = TRUE) + mean(lightly_active, na.rm = TRUE)),\n",
    "            sedentary = mean(sedentary, na.rm = TRUE),\n",
    "            \n",
    "            device_downtime = 24 - (very_active + active + sedentary),\n",
    "                              .groups = 'drop')\n",
    "# Order by week days\n",
    "\n",
    "dayLabs<-c(\"Monday\",\"Tuesday\",\"Wednesday\",\"Thursday\",\"Friday\",\"Saturday\",\"Sunday\") \n",
    "active_vs_sedentary_minutes$week_day <- factor(active_vs_sedentary_minutes$week_day, levels= dayLabs)\n",
    "active_vs_sedentary_minutes<-active_vs_sedentary_minutes[order(active_vs_sedentary_minutes$week_day), ]\n",
    "\n",
    "View(active_vs_sedentary_minutes)"
   ]
  },
  {
   "cell_type": "markdown",
   "id": "03dd9958",
   "metadata": {
    "papermill": {
     "duration": null,
     "end_time": null,
     "exception": null,
     "start_time": null,
     "status": "completed"
    },
    "tags": []
   },
   "source": [
    "**Result**\n",
    "\n",
    "The  result shows that Hypothesis_1 is not true, The very active minutes tend to be on week start rather than over the week ends.\n",
    "\n",
    "\n",
    "\n",
    "**Checking Hypothesis_2:** *Users with high calories expenditure tends to asleep longer.*\n",
    "\n",
    "Correlation analysis between calories and asleep minutes"
   ]
  },
  {
   "cell_type": "code",
   "execution_count": null,
   "id": "3de49555",
   "metadata": {
    "execution": {
     "iopub.execute_input": "2022-11-29T07:32:24.523687Z",
     "iopub.status.busy": "2022-11-29T07:32:24.522153Z",
     "iopub.status.idle": "2022-11-29T07:32:24.896904Z"
    },
    "papermill": {
     "duration": null,
     "end_time": null,
     "exception": null,
     "start_time": null,
     "status": "completed"
    },
    "tags": []
   },
   "outputs": [],
   "source": [
    "daily_asleep_vs_calories = clean_activity_sleep_combined %>% \n",
    "  group_by(id, date) %>% \n",
    "  summarise(daily_minute = sum(total_minutes_asleep),\n",
    "            daily_calories = sum(calories),\n",
    "           .groups = 'drop')\n",
    "x <- daily_asleep_vs_calories$daily_minute\n",
    "y <- daily_asleep_vs_calories$daily_calories\n",
    "plot(x, y, xlab = \"Minutes Asleep\", ylab = \"Calories\", pch = 19, col = \"lightblue\") +\n",
    "  abline(lm(y ~ x), col = \"red\", lwd = 1) +\n",
    "  text(paste(\"Correlation:\", round(cor(x, y), 2)), x = 250, y = 7300) "
   ]
  },
  {
   "cell_type": "markdown",
   "id": "d356851e",
   "metadata": {
    "papermill": {
     "duration": null,
     "end_time": null,
     "exception": null,
     "start_time": null,
     "status": "completed"
    },
    "tags": []
   },
   "source": [
    "**Result**\n",
    "\n",
    "The correlation analysis shows a low correlation of increase in calories expenditure to increase in minutes asleep, 0.13 correlation value. \n",
    "\n",
    "\n",
    "* Weight and Activity intensity statistical summary"
   ]
  },
  {
   "cell_type": "code",
   "execution_count": null,
   "id": "db26e0be",
   "metadata": {
    "execution": {
     "iopub.execute_input": "2022-11-29T07:32:24.903712Z",
     "iopub.status.busy": "2022-11-29T07:32:24.901106Z",
     "iopub.status.idle": "2022-11-29T07:32:24.934023Z"
    },
    "papermill": {
     "duration": null,
     "end_time": null,
     "exception": null,
     "start_time": null,
     "status": "completed"
    },
    "tags": []
   },
   "outputs": [],
   "source": [
    "clean_weight_intensity_combined %>% \n",
    "  select(weight_kg,\n",
    "         average_intensity) %>% \n",
    "summary()"
   ]
  },
  {
   "cell_type": "markdown",
   "id": "2384c245",
   "metadata": {
    "papermill": {
     "duration": null,
     "end_time": null,
     "exception": null,
     "start_time": null,
     "status": "completed"
    },
    "tags": []
   },
   "source": [
    "Note:\n",
    "Individual difference in weight is observed\n",
    "\n",
    "**Hypothesis_3:** *Users with heavier weight tends to do less intensified activities.*"
   ]
  },
  {
   "cell_type": "code",
   "execution_count": null,
   "id": "a7b26067",
   "metadata": {
    "execution": {
     "iopub.execute_input": "2022-11-29T07:32:24.939516Z",
     "iopub.status.busy": "2022-11-29T07:32:24.937770Z",
     "iopub.status.idle": "2022-11-29T07:32:24.976995Z"
    },
    "papermill": {
     "duration": null,
     "end_time": null,
     "exception": null,
     "start_time": null,
     "status": "completed"
    },
    "tags": []
   },
   "outputs": [],
   "source": [
    "# Group by individual to box plot\n",
    "\n",
    "clean_weight_intensity_combined_final = clean_weight_intensity_combined %>% \n",
    "  group_by(id) %>% \n",
    "  summarize(weight_kg = mean(weight_kg, na.rm = TRUE),\n",
    "            intensity = mean(total_intensity, na.rm =TRUE))\n",
    "View(clean_weight_intensity_combined_final)\n"
   ]
  },
  {
   "cell_type": "markdown",
   "id": "8d704c3e",
   "metadata": {
    "papermill": {
     "duration": null,
     "end_time": null,
     "exception": null,
     "start_time": null,
     "status": "completed"
    },
    "tags": []
   },
   "source": [
    "The result shows that we have only 8 candidates with weight log data, which is not statistically significant to make a decision. However, with this data set they are inversely related"
   ]
  },
  {
   "cell_type": "code",
   "execution_count": null,
   "id": "3d3b21d2",
   "metadata": {
    "execution": {
     "iopub.execute_input": "2022-11-29T07:32:24.982234Z",
     "iopub.status.busy": "2022-11-29T07:32:24.980594Z",
     "iopub.status.idle": "2022-11-29T07:32:25.095434Z"
    },
    "papermill": {
     "duration": null,
     "end_time": null,
     "exception": null,
     "start_time": null,
     "status": "completed"
    },
    "tags": []
   },
   "outputs": [],
   "source": [
    "# Correlation plot\n",
    "x <- clean_weight_intensity_combined_final$weight_kg\n",
    "y <- clean_weight_intensity_combined_final$intensity\n",
    "plot(x, y, xlab = \"Weight(Kgs)\", ylab = \"Intensity\", pch = 19, col = \"lightblue\") +\n",
    "  abline(lm(y ~ x), col = \"red\", lwd = 1) +\n",
    "  text(paste(\"Correlation:\", round(cor(x, y), 2)), x = 115, y = 17)"
   ]
  },
  {
   "cell_type": "markdown",
   "id": "043cc344",
   "metadata": {
    "papermill": {
     "duration": null,
     "end_time": null,
     "exception": null,
     "start_time": null,
     "status": "completed"
    },
    "tags": []
   },
   "source": [
    "**Result**\n",
    "The data is not enough to test the hypothesis, even if -ve correlation with 0.62 magnitude was found.\n",
    "\n",
    "# Share\n",
    "\n",
    "Device Usage over the study period\n",
    "\n",
    "Device used days statistics:"
   ]
  },
  {
   "cell_type": "code",
   "execution_count": null,
   "id": "655a16f4",
   "metadata": {
    "execution": {
     "iopub.execute_input": "2022-11-29T07:32:25.111070Z",
     "iopub.status.busy": "2022-11-29T07:32:25.109134Z",
     "iopub.status.idle": "2022-11-29T07:32:25.219711Z"
    },
    "papermill": {
     "duration": null,
     "end_time": null,
     "exception": null,
     "start_time": null,
     "status": "completed"
    },
    "tags": []
   },
   "outputs": [],
   "source": [
    "\n",
    "#Plot individuals device use differences:\n",
    "par(bg = \"#f7f7f7\")\n",
    "boxplot(count_usage_days$number_of_days,\n",
    "        horizontal = TRUE,\n",
    "        main='How many days were devices used?, over the study period',\n",
    "        sub = 'Period: 31 days', cex.sub = 1.2,\n",
    "        ylab='Consumers',\n",
    "        xlab='Number of days devices used',\n",
    "        col='#CCCCCC',\n",
    "        border='#333333')\n",
    "\n",
    "text(x = 17, y = 1.4, labels = 'Summary stat >>   Mean = 26, Sd = 7, Min = 3, and Max = 31 days', col = '#666633')\n"
   ]
  },
  {
   "cell_type": "markdown",
   "id": "7f85ff58",
   "metadata": {
    "papermill": {
     "duration": null,
     "end_time": null,
     "exception": null,
     "start_time": null,
     "status": "completed"
    },
    "tags": []
   },
   "source": [
    "Summary statistics for active minutes and sedentary "
   ]
  },
  {
   "cell_type": "code",
   "execution_count": null,
   "id": "6b604cf8",
   "metadata": {
    "execution": {
     "iopub.execute_input": "2022-11-29T07:32:25.223508Z",
     "iopub.status.busy": "2022-11-29T07:32:25.222136Z",
     "iopub.status.idle": "2022-11-29T07:32:25.743577Z"
    },
    "papermill": {
     "duration": null,
     "end_time": null,
     "exception": null,
     "start_time": null,
     "status": "completed"
    },
    "tags": []
   },
   "outputs": [],
   "source": [
    "# convert to long\n",
    "# install.packages(\"reshape2\")                               \n",
    "library(\"reshape2\")\n",
    "\n",
    "active_vs_sedentary_minutes_long <- melt(active_vs_sedentary_minutes,                                 \n",
    "                  id.vars = c(\"week_day\"))\n",
    "\n",
    "# view(active_vs_sedentary_minutes_long)\n",
    "# Plot stacked bar chart\n",
    "# Grouped\n",
    "# distinguishing the bar with \"condition\" parameter\n",
    "# View(active_vs_sedentary_minutes_long)\n",
    "\n",
    "ggplot(active_vs_sedentary_minutes_long, aes(fill = variable, \n",
    "                   \n",
    "                 # y-axis value \n",
    "                 y = value,\n",
    "                   \n",
    "                 # this will group the data\n",
    "                 # based on the \"vehicle\" type \n",
    "                 x = week_day)) + \n",
    "  labs(x = \"Week days\", y = \"24 hours\") +\n",
    "\n",
    "\n",
    "  # position adjustment of the bar,\n",
    "  geom_bar( variable = \"stack\",  \n",
    "           # since we are grouping the bar,\n",
    "           # we have chosen \"stack\"\n",
    "          stat=\"identity\"\n",
    "           )  +\n",
    "  \n",
    "  guides(fill = guide_legend(title = \"Device Status\")) +\n",
    "  \n",
    "  scale_fill_manual(values=c('azure2', 'azure3', 'azure4', 'black'), labels = c(\"Very Active\", \"Active\", \"Sedentary\", \"Downtime (Off)\")) +\n",
    "\n",
    "  ggtitle('Devices: How many hours in blackout? out of the 24 hours.', subtitle = 'Status over the weekdays'  )\n"
   ]
  },
  {
   "cell_type": "markdown",
   "id": "d6670899",
   "metadata": {
    "papermill": {
     "duration": null,
     "end_time": null,
     "exception": null,
     "start_time": null,
     "status": "completed"
    },
    "tags": []
   },
   "source": [
    "\n",
    "Device usage frequency over the week days\n",
    "\n",
    "Make a table of frequencies and proportions to see the frequency of using the device:"
   ]
  },
  {
   "cell_type": "code",
   "execution_count": null,
   "id": "46439246",
   "metadata": {
    "execution": {
     "iopub.execute_input": "2022-11-29T07:32:25.747420Z",
     "iopub.status.busy": "2022-11-29T07:32:25.745933Z",
     "iopub.status.idle": "2022-11-29T07:32:25.781458Z"
    },
    "papermill": {
     "duration": null,
     "end_time": null,
     "exception": null,
     "start_time": null,
     "status": "completed"
    },
    "tags": []
   },
   "outputs": [],
   "source": [
    "# Order by week days\n",
    "\n",
    "dayLabs<-c(\"Monday\",\"Tuesday\",\"Wednesday\",\"Thursday\",\"Friday\",\"Saturday\",\"Sunday\") \n",
    "weekly_device_activity$week_day <- factor(weekly_device_activity$week_day, levels= dayLabs)\n",
    "device_usage_week_days<-weekly_device_activity[order(weekly_device_activity$week_day), ]\n",
    "\n",
    "freq <- table(device_usage_week_days$week_day)\n",
    "prop <- freq / nrow(device_usage_week_days)\n",
    "usage_days_stat <- data.frame(week_days = names(freq),\n",
    "                              freq = as.vector(freq),\n",
    "                              prop = as.vector(prop))\n",
    "View(usage_days_stat)\n",
    "\n"
   ]
  },
  {
   "cell_type": "markdown",
   "id": "be64fa74",
   "metadata": {
    "papermill": {
     "duration": null,
     "end_time": null,
     "exception": null,
     "start_time": null,
     "status": "completed"
    },
    "tags": []
   },
   "source": [
    "Prepare proportions on Usage"
   ]
  },
  {
   "cell_type": "code",
   "execution_count": null,
   "id": "acbb9870",
   "metadata": {
    "execution": {
     "iopub.execute_input": "2022-11-29T07:32:25.785171Z",
     "iopub.status.busy": "2022-11-29T07:32:25.783836Z",
     "iopub.status.idle": "2022-11-29T07:32:26.078158Z"
    },
    "papermill": {
     "duration": null,
     "end_time": null,
     "exception": null,
     "start_time": null,
     "status": "completed"
    },
    "tags": []
   },
   "outputs": [],
   "source": [
    "usage_days_stat$week_days <- factor(usage_days_stat$week_days, \n",
    "   levels = as.character(wday(c(2:7,1), label=TRUE, abbr=FALSE)))\n",
    "\n",
    "ggplot(data = usage_days_stat, aes( x = week_days, y = prop*100)) +\n",
    "  geom_bar(stat = \"identity\" ) +\n",
    "  labs(x = \"Week days\", y = \"Device use (%)\") +\n",
    "  ggtitle('Consumers: How they used devices? over the weekdays', subtitle = 'Device use frequency')\n",
    "#Divide data 'usage_days_stat' data frame into quantile:\n",
    "\n",
    "#usage_days_stat$week_days=as.integer(usage_days_stat$week_days)\n",
    "#quantile(usage_days_stat$week_days)\n"
   ]
  },
  {
   "cell_type": "markdown",
   "id": "06216c9f",
   "metadata": {
    "papermill": {
     "duration": null,
     "end_time": null,
     "exception": null,
     "start_time": null,
     "status": "completed"
    },
    "tags": []
   },
   "source": [
    "**Individual Differences**"
   ]
  },
  {
   "cell_type": "code",
   "execution_count": null,
   "id": "ada5b27f",
   "metadata": {
    "execution": {
     "iopub.execute_input": "2022-11-29T07:32:26.081798Z",
     "iopub.status.busy": "2022-11-29T07:32:26.080480Z",
     "iopub.status.idle": "2022-11-29T07:32:26.247581Z"
    },
    "papermill": {
     "duration": null,
     "end_time": null,
     "exception": null,
     "start_time": null,
     "status": "completed"
    },
    "tags": []
   },
   "outputs": [],
   "source": [
    "#Plot individual differences in calories expenditure:\n",
    "boxplot(clean_activity_sleep_combined$calories,\n",
    "        main='Calories: personal differences',\n",
    "        xlab='Consumers',\n",
    "        ylab='Calories(cal)',\n",
    "        col='antiquewhite',\n",
    "        border='black') \n",
    "\n",
    "#Plot individual differences in weight:\n",
    "boxplot(clean_weight$weight_kg,\n",
    "        main='Weight: personal differences',\n",
    "        xlab='Consumers',\n",
    "        ylab='Weight(Kg)',\n",
    "        col='lightblue',\n",
    "        border='black') \n"
   ]
  },
  {
   "cell_type": "markdown",
   "id": "a4103bce",
   "metadata": {
    "papermill": {
     "duration": null,
     "end_time": null,
     "exception": null,
     "start_time": null,
     "status": "completed"
    },
    "tags": []
   },
   "source": [
    "\n",
    "**Findings**\n",
    "\n",
    "*about the data*\n",
    "\n",
    "* Missing values of sleep and weight logs\n",
    "* Incomplete attributes used excluding Age, Gender, spacial aspects of device uses\n",
    "\n",
    "*about the consumers differences*\n",
    "\n",
    "* High individual differences in days of device usage\n",
    "* Weight differences\n",
    "* Calories expenditure differences\n",
    "\n",
    "*about the devices*\n",
    "\n",
    "* Activity tracking device has an average downtime of 4 hours a day\n",
    "* Device Usage on physical activities is 4 hours a day\n",
    "\n",
    "\n",
    "*about relationships and trends*\n",
    "\n",
    "* daily individual calories expenditure increase shows larger correlation with daily asleep minutes increase than the increase to time in Bed.\n",
    "* Total steps increase relates with calories expenditure increase\n",
    "* With the weight data collected, Heavier individuals tend to engage in less intensified activities\n",
    "* Larger sedentary minutes are observed in week start and week ends (Monday and Friday)\n",
    "* Device downtime is higher at the mid of the week \n"
   ]
  }
 ],
 "metadata": {
  "kernelspec": {
   "display_name": "R",
   "language": "R",
   "name": "ir"
  },
  "language_info": {
   "codemirror_mode": "r",
   "file_extension": ".r",
   "mimetype": "text/x-r-source",
   "name": "R",
   "pygments_lexer": "r",
   "version": "4.0.5"
  },
  "papermill": {
   "default_parameters": {},
   "duration": 8.141783,
   "end_time": "2022-11-29T07:52:33.045820",
   "environment_variables": {},
   "exception": null,
   "input_path": "__notebook__.ipynb",
   "output_path": "__notebook__.ipynb",
   "parameters": {},
   "start_time": "2022-11-29T07:52:24.904037",
   "version": "2.4.0"
  }
 },
 "nbformat": 4,
 "nbformat_minor": 5
}
